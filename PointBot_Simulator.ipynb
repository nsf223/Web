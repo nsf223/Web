{
  "nbformat": 4,
  "nbformat_minor": 0,
  "metadata": {
    "colab": {
      "provenance": []
    },
    "kernelspec": {
      "name": "python3",
      "display_name": "Python 3"
    },
    "language_info": {
      "name": "python"
    }
  },
  "cells": [
    {
      "cell_type": "code",
      "execution_count": 22,
      "metadata": {
        "colab": {
          "base_uri": "https://localhost:8080/",
          "height": 517
        },
        "id": "n9wndbGRULMb",
        "outputId": "2555a71f-89b0-4486-cce1-65f7ec454404"
      },
      "outputs": [
        {
          "output_type": "stream",
          "name": "stdout",
          "text": [
            "Populating the interactive namespace from numpy and matplotlib\n"
          ]
        },
        {
          "output_type": "stream",
          "name": "stderr",
          "text": [
            "/usr/local/lib/python3.10/dist-packages/IPython/core/magics/pylab.py:159: UserWarning: pylab import has clobbered these variables: ['random', 'time']\n",
            "`%matplotlib` prevents importing * from pylab and numpy\n",
            "  warn(\"pylab import has clobbered these variables: %s\"  % clobbered +\n"
          ]
        },
        {
          "output_type": "execute_result",
          "data": {
            "text/plain": [
              "[<matplotlib.lines.Line2D at 0x79b8c56c6470>]"
            ]
          },
          "metadata": {},
          "execution_count": 22
        },
        {
          "output_type": "display_data",
          "data": {
            "text/plain": [
              "<Figure size 640x480 with 1 Axes>"
            ],
            "image/png": "[encoded data removed]"
          },
          "metadata": {}
        }
      ],
      "source": [
        "from os import WEXITED\n",
        "import numpy as np\n",
        "%pylab inline\n",
        "import matplotlib.pyplot as plt\n",
        "import random\n",
        "\n",
        "def control0(t, y):\n",
        "  ux = -np.sin(t)\n",
        "  uy = np.cos(t)\n",
        "  return np.array([ux, uy])\n",
        "\n",
        "def control1(t, y):\n",
        "  ux = -4*np.sin(t)\n",
        "  uy = 2*np.cos(t)\n",
        "  return np.array([ux, uy])\n",
        "\n",
        "def control2(t, y):\n",
        "  ux = -4*np.sin(t)\n",
        "  uy = 2*np.cos(t)+(ux/2)\n",
        "  return np.array([ux, uy])\n",
        "\n",
        "def control3(t, y):\n",
        "  ux = np.sin(t)\n",
        "  uy = np.cos(2*t)\n",
        "  return np.array([ux, uy])\n",
        "\n",
        "def simulate(dt, x, u):\n",
        "  x += dt * u\n",
        "  return x\n",
        "\n",
        "def simulate1(dt, x, u):\n",
        "  wind = ([0.1, 0.1])\n",
        "  x += dt * u + wind\n",
        "  return x\n",
        "\n",
        "def simulate2(dt, x, u):\n",
        "  wx = random.uniform(-0.1, 0.1)\n",
        "  wy = random.uniform(-0.1, 0.1)\n",
        "  wind = ([wx, wy])\n",
        "  x += dt * u + wind\n",
        "  return x\n",
        "\n",
        "def sense(x):\n",
        "  return x\n",
        "\n",
        "#Control Test\n",
        "\n",
        "tf = 10\n",
        "dt = 0.1\n",
        "time = np.linspace(0, tf, 100)\n",
        "x = np.array([0., 0.,])\n",
        "x_log = [np.copy(x)]\n",
        "\n",
        "for t in time:\n",
        "  y = sense(x)\n",
        "  u = control0(t, y)\n",
        "  x = simulate(dt, x, u)\n",
        "  x_log.append(np.copy(x))\n",
        "x_log = np.array(x_log)\n",
        "\n",
        "plt.grid()\n",
        "plt.plot(x_log[:,0], x_log[:,1])\n",
        "\n",
        "#Exersice 1\n",
        "\n",
        "x = np.array([7., 2.,])\n",
        "x_log = [np.copy(x)]\n",
        "\n",
        "for t in time:\n",
        "  y = sense(x)\n",
        "  u = control1(t, y)\n",
        "  x = simulate(dt, x, u)\n",
        "  x_log.append(np.copy(x))\n",
        "x_log = np.array(x_log)\n",
        "\n",
        "plt.grid()\n",
        "plt.plot(x_log[:,0], x_log[:,1])\n",
        "\n",
        "#Exercise 2\n",
        "\n",
        "x = np.array([6., 4.,])\n",
        "x_log = [np.copy(x)]\n",
        "\n",
        "for t in time:\n",
        "  y = sense(x)\n",
        "  u = control2(t, y)\n",
        "  x = simulate(dt, x, u)\n",
        "  x_log.append(np.copy(x))\n",
        "x_log = np.array(x_log)\n",
        "\n",
        "plt.grid()\n",
        "plt.plot(x_log[:,0], x_log[:,1])\n",
        "\n",
        "#Exercise 3\n",
        "\n",
        "x = np.array([1., 0.,])\n",
        "x_log = [np.copy(x)]\n",
        "\n",
        "for t in time:\n",
        "  y = sense(x)\n",
        "  u = control3(t, y)\n",
        "  x = simulate(dt, x, u)\n",
        "  x_log.append(np.copy(x))\n",
        "x_log = np.array(x_log)\n",
        "\n",
        "plt.grid()\n",
        "plt.plot(x_log[:,0], x_log[:,1])\n",
        "\n",
        "#Exercise 4 part 1\n",
        "\n",
        "x = np.array([1., 0.,])\n",
        "x_log = [np.copy(x)]\n",
        "\n",
        "for t in time:\n",
        "  y = sense(x)\n",
        "  u = control0(t, y)\n",
        "  x = simulate1(dt, x, u)\n",
        "  x_log.append(np.copy(x))\n",
        "x_log = np.array(x_log)\n",
        "\n",
        "plt.grid()\n",
        "plt.plot(x_log[:,0], x_log[:,1])\n",
        "\n",
        "#Exercise 4 part 2\n",
        "\n",
        "x = np.array([1., 0.,])\n",
        "x_log = [np.copy(x)]\n",
        "\n",
        "for t in time:\n",
        "  y = sense(x)\n",
        "  u = control0(t, y)\n",
        "  x = simulate2(dt, x, u)\n",
        "  x_log.append(np.copy(x))\n",
        "x_log = np.array(x_log)\n",
        "\n",
        "plt.grid()\n",
        "plt.plot(x_log[:,0], x_log[:,1])"
      ]
    }
  ]
}